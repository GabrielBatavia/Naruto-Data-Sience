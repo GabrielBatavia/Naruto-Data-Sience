{
 "cells": [
  {
   "cell_type": "code",
   "id": "initial_id",
   "metadata": {
    "collapsed": true,
    "ExecuteTime": {
     "end_time": "2024-11-01T07:16:14.929234Z",
     "start_time": "2024-11-01T07:16:08.983707Z"
    }
   },
   "source": [
    "import pandas as pd\n",
    "import numpy as np\n",
    "import matplotlib.pyplot as plt\n",
    "import seaborn as sns\n",
    "from glob import glob\n",
    "from transformers import pipeline\n",
    "\n",
    "from nltk import sent_tokenize\n",
    "import nltk\n",
    "from time import time\n",
    "import matplotlib.pyplot as plt\n",
    "import torch"
   ],
   "outputs": [
    {
     "name": "stderr",
     "output_type": "stream",
     "text": [
      "C:\\Users\\gabri\\anaconda3\\envs\\web-scrap\\Lib\\site-packages\\transformers\\utils\\generic.py:441: FutureWarning: `torch.utils._pytree._register_pytree_node` is deprecated. Please use `torch.utils._pytree.register_pytree_node` instead.\n",
      "  _torch_pytree._register_pytree_node(\n",
      "C:\\Users\\gabri\\anaconda3\\envs\\web-scrap\\Lib\\site-packages\\transformers\\utils\\generic.py:309: FutureWarning: `torch.utils._pytree._register_pytree_node` is deprecated. Please use `torch.utils._pytree.register_pytree_node` instead.\n",
      "  _torch_pytree._register_pytree_node(\n"
     ]
    }
   ],
   "execution_count": 1
  },
  {
   "metadata": {
    "ExecuteTime": {
     "end_time": "2024-11-01T07:21:15.813094Z",
     "start_time": "2024-11-01T07:21:14.826757Z"
    }
   },
   "cell_type": "code",
   "source": [
    "nltk.download('punkt')\n",
    "nltk.download('punkt_tab')"
   ],
   "id": "214014650d4c15c4",
   "outputs": [
    {
     "name": "stderr",
     "output_type": "stream",
     "text": [
      "[nltk_data] Downloading package punkt to\n",
      "[nltk_data]     C:\\Users\\gabri\\AppData\\Roaming\\nltk_data...\n",
      "[nltk_data]   Package punkt is already up-to-date!\n",
      "[nltk_data] Downloading package punkt_tab to\n",
      "[nltk_data]     C:\\Users\\gabri\\AppData\\Roaming\\nltk_data...\n",
      "[nltk_data]   Package punkt_tab is already up-to-date!\n"
     ]
    },
    {
     "data": {
      "text/plain": [
       "True"
      ]
     },
     "execution_count": 2,
     "metadata": {},
     "output_type": "execute_result"
    }
   ],
   "execution_count": 2
  },
  {
   "metadata": {},
   "cell_type": "markdown",
   "source": "# Load Dataset",
   "id": "42244e286181a218"
  },
  {
   "metadata": {
    "ExecuteTime": {
     "end_time": "2024-11-01T07:21:15.820074Z",
     "start_time": "2024-11-01T07:21:15.814020Z"
    }
   },
   "cell_type": "code",
   "source": "subtitles_paths = sorted(glob(\"../data/subtitles/*.ass\"))",
   "id": "889d68d30d38f931",
   "outputs": [],
   "execution_count": 3
  },
  {
   "metadata": {
    "ExecuteTime": {
     "end_time": "2024-11-01T07:21:15.826943Z",
     "start_time": "2024-11-01T07:21:15.821694Z"
    }
   },
   "cell_type": "code",
   "source": "subtitles_paths[:5]",
   "id": "d47992286c099d9e",
   "outputs": [
    {
     "data": {
      "text/plain": [
       "['../data/subtitles\\\\Naruto Season 1 - 01.ass',\n",
       " '../data/subtitles\\\\Naruto Season 1 - 02.ass',\n",
       " '../data/subtitles\\\\Naruto Season 1 - 03.ass',\n",
       " '../data/subtitles\\\\Naruto Season 1 - 04.ass',\n",
       " '../data/subtitles\\\\Naruto Season 1 - 05.ass']"
      ]
     },
     "execution_count": 4,
     "metadata": {},
     "output_type": "execute_result"
    }
   ],
   "execution_count": 4
  },
  {
   "metadata": {
    "ExecuteTime": {
     "end_time": "2024-11-01T07:21:16.044641Z",
     "start_time": "2024-11-01T07:21:15.829194Z"
    }
   },
   "cell_type": "code",
   "source": [
    "scripts = []\n",
    "episode_num = []\n",
    "for path in subtitles_paths:\n",
    "    \n",
    "    with open(path, \"r\", encoding=\"utf-8\") as f:\n",
    "        lines = f.readlines()\n",
    "        lines = lines[27:]\n",
    "        \n",
    "        rows = [\",\".join(line.split(',')[9:]) for line in lines]\n",
    "    \n",
    "    rows = [line.replace(\"\\\\N\", \"\") for line in rows]\n",
    "    script = \" \".join(rows)\n",
    "    \n",
    "    episode = int(path.split('-')[1].split('.')[0].strip())\n",
    "    \n",
    "    scripts.append(script)\n",
    "    episode_num.append(episode)"
   ],
   "id": "d18f3087dc779371",
   "outputs": [],
   "execution_count": 5
  },
  {
   "metadata": {
    "ExecuteTime": {
     "end_time": "2024-11-01T07:21:16.359610Z",
     "start_time": "2024-11-01T07:21:16.350212Z"
    }
   },
   "cell_type": "code",
   "source": "df = pd.DataFrame.from_dict({'episode':episode_num,'script':scripts})",
   "id": "cbe66d4087448087",
   "outputs": [],
   "execution_count": 6
  },
  {
   "metadata": {
    "ExecuteTime": {
     "end_time": "2024-11-01T07:21:17.249918Z",
     "start_time": "2024-11-01T07:21:17.237519Z"
    }
   },
   "cell_type": "code",
   "source": "df.head(5)",
   "id": "5aa4b0d72d800fb7",
   "outputs": [
    {
     "data": {
      "text/plain": [
       "   episode                                             script\n",
       "0        1  A long time ago, a powerful demon foxappeared ...\n",
       "1        2  C'mon!\\n Running like a fugitive,\\n Being chas...\n",
       "2        3  C'mon!\\n Running like a fugitive,\\n Being chas...\n",
       "3        4  C'mon!\\n Running like a fugitive,\\n Being chas...\n",
       "4        5  C'mon!\\n Running like a fugitive,\\n Being chas..."
      ],
      "text/html": [
       "<div>\n",
       "<style scoped>\n",
       "    .dataframe tbody tr th:only-of-type {\n",
       "        vertical-align: middle;\n",
       "    }\n",
       "\n",
       "    .dataframe tbody tr th {\n",
       "        vertical-align: top;\n",
       "    }\n",
       "\n",
       "    .dataframe thead th {\n",
       "        text-align: right;\n",
       "    }\n",
       "</style>\n",
       "<table border=\"1\" class=\"dataframe\">\n",
       "  <thead>\n",
       "    <tr style=\"text-align: right;\">\n",
       "      <th></th>\n",
       "      <th>episode</th>\n",
       "      <th>script</th>\n",
       "    </tr>\n",
       "  </thead>\n",
       "  <tbody>\n",
       "    <tr>\n",
       "      <th>0</th>\n",
       "      <td>1</td>\n",
       "      <td>A long time ago, a powerful demon foxappeared ...</td>\n",
       "    </tr>\n",
       "    <tr>\n",
       "      <th>1</th>\n",
       "      <td>2</td>\n",
       "      <td>C'mon!\\n Running like a fugitive,\\n Being chas...</td>\n",
       "    </tr>\n",
       "    <tr>\n",
       "      <th>2</th>\n",
       "      <td>3</td>\n",
       "      <td>C'mon!\\n Running like a fugitive,\\n Being chas...</td>\n",
       "    </tr>\n",
       "    <tr>\n",
       "      <th>3</th>\n",
       "      <td>4</td>\n",
       "      <td>C'mon!\\n Running like a fugitive,\\n Being chas...</td>\n",
       "    </tr>\n",
       "    <tr>\n",
       "      <th>4</th>\n",
       "      <td>5</td>\n",
       "      <td>C'mon!\\n Running like a fugitive,\\n Being chas...</td>\n",
       "    </tr>\n",
       "  </tbody>\n",
       "</table>\n",
       "</div>"
      ]
     },
     "execution_count": 7,
     "metadata": {},
     "output_type": "execute_result"
    }
   ],
   "execution_count": 7
  },
  {
   "metadata": {},
   "cell_type": "markdown",
   "source": "# Load Model",
   "id": "fa58754925494eb6"
  },
  {
   "metadata": {
    "ExecuteTime": {
     "end_time": "2024-11-01T07:21:18.811078Z",
     "start_time": "2024-11-01T07:21:18.727934Z"
    }
   },
   "cell_type": "code",
   "source": [
    "device = 0 if torch.cuda.is_available() else 'cpu'\n",
    "print(device)"
   ],
   "id": "d432e97c17eed1ab",
   "outputs": [
    {
     "name": "stdout",
     "output_type": "stream",
     "text": [
      "0\n"
     ]
    }
   ],
   "execution_count": 8
  },
  {
   "metadata": {
    "ExecuteTime": {
     "end_time": "2024-11-01T07:21:26.103918Z",
     "start_time": "2024-11-01T07:21:19.165632Z"
    }
   },
   "cell_type": "code",
   "source": [
    "from transformers import pipeline\n",
    "theme_classifier = pipeline(\"zero-shot-classification\",\n",
    "                      model= 'facebook/bart-large-mnli',\n",
    "                      device=device)"
   ],
   "id": "3ef803278b7040ba",
   "outputs": [
    {
     "name": "stderr",
     "output_type": "stream",
     "text": [
      "C:\\Users\\gabri\\anaconda3\\envs\\web-scrap\\Lib\\site-packages\\huggingface_hub\\file_download.py:797: FutureWarning: `resume_download` is deprecated and will be removed in version 1.0.0. Downloads always resume when possible. If you want to force a new download, use `force_download=True`.\n",
      "  warnings.warn(\n"
     ]
    }
   ],
   "execution_count": 9
  },
  {
   "metadata": {
    "ExecuteTime": {
     "end_time": "2024-11-01T07:21:26.823336Z",
     "start_time": "2024-11-01T07:21:26.105930Z"
    }
   },
   "cell_type": "code",
   "source": [
    "theme_classifier(\"I have a problem with my iphone that needs to be resolved asap!\",\n",
    "    candidate_labels=[\"urgent\", \"not urgent\", \"phone\", \"tablet\", \"computer\"],\n",
    "    multi_label=False\n",
    ")"
   ],
   "id": "d897f2bdb49fab21",
   "outputs": [
    {
     "data": {
      "text/plain": [
       "{'sequence': 'I have a problem with my iphone that needs to be resolved asap!',\n",
       " 'labels': ['urgent', 'phone', 'computer', 'not urgent', 'tablet'],\n",
       " 'scores': [0.5227583646774292,\n",
       "  0.45813968777656555,\n",
       "  0.014264845289289951,\n",
       "  0.0026850055437535048,\n",
       "  0.0021520759910345078]}"
      ]
     },
     "execution_count": 10,
     "metadata": {},
     "output_type": "execute_result"
    }
   ],
   "execution_count": 10
  },
  {
   "metadata": {},
   "cell_type": "markdown",
   "source": "# Inference",
   "id": "a6063a372a78ea0f"
  },
  {
   "metadata": {
    "ExecuteTime": {
     "end_time": "2024-11-01T07:21:26.832370Z",
     "start_time": "2024-11-01T07:21:26.823836Z"
    }
   },
   "cell_type": "code",
   "source": [
    "def get_themes(script):\n",
    "    script_sentences = sent_tokenize(script)\n",
    "\n",
    "    # Batch sentences \n",
    "    script_batches = []\n",
    "    sentence_batch_size=20\n",
    "    for index in range(0,len(script_sentences),sentence_batch_size):\n",
    "        sent = \" \".join(script_sentences[index:index+sentence_batch_size])\n",
    "        script_batches.append(sent)\n",
    "    \n",
    "    # Run model\n",
    "    candidate_labels = ['friendship','hope', 'sacrifice', 'battle','self development','betrayal','love','dialogue'] \n",
    "    emotion_output = theme_classifier(script_batches, \n",
    "                       candidate_labels,multi_label=True)\n",
    "\n",
    "    # Wrangle Output    \n",
    "    emotions={}\n",
    "    for output in  emotion_output:\n",
    "        for label, score in zip(output['labels'],output['scores']):\n",
    "            if label not in emotions:\n",
    "                emotions[label]=[]\n",
    "            emotions[label].append(score)\n",
    "    \n",
    "    emotions =  {key:np.mean(np.array(value)) for key,value in emotions.items()}\n",
    "   \n",
    "    return emotions"
   ],
   "id": "ac8cc89dfaa9001b",
   "outputs": [],
   "execution_count": 11
  },
  {
   "metadata": {
    "ExecuteTime": {
     "end_time": "2024-11-01T07:42:27.877748Z",
     "start_time": "2024-11-01T07:21:26.836577Z"
    }
   },
   "cell_type": "code",
   "source": "output_emotions = df['script'].apply(get_themes)",
   "id": "98066e6e34a826f7",
   "outputs": [
    {
     "name": "stderr",
     "output_type": "stream",
     "text": [
      "C:\\Users\\gabri\\anaconda3\\envs\\web-scrap\\Lib\\site-packages\\transformers\\pipelines\\base.py:1101: UserWarning: You seem to be using the pipelines sequentially on GPU. In order to maximize efficiency please use a dataset\n",
      "  warnings.warn(\n"
     ]
    }
   ],
   "execution_count": 12
  },
  {
   "metadata": {
    "ExecuteTime": {
     "end_time": "2024-11-01T07:42:27.890442Z",
     "start_time": "2024-11-01T07:42:27.878754Z"
    }
   },
   "cell_type": "code",
   "source": "emotion_df = pd.DataFrame(output_emotions.tolist())",
   "id": "958b0ab089d8f3fe",
   "outputs": [],
   "execution_count": 13
  },
  {
   "metadata": {
    "ExecuteTime": {
     "end_time": "2024-11-01T07:42:27.898416Z",
     "start_time": "2024-11-01T07:42:27.892450Z"
    }
   },
   "cell_type": "code",
   "source": "df[emotion_df.columns] = emotion_df",
   "id": "8af0bf69785924ab",
   "outputs": [],
   "execution_count": 14
  },
  {
   "metadata": {
    "ExecuteTime": {
     "end_time": "2024-11-01T07:42:27.911821Z",
     "start_time": "2024-11-01T07:42:27.899424Z"
    }
   },
   "cell_type": "code",
   "source": [
    "theme_output = df.drop(['episode','script','dialogue'],axis=1).sum().reset_index()\n",
    "theme_output.columns = ['theme','score']\n",
    "theme_output"
   ],
   "id": "dc5230b1d988fd1a",
   "outputs": [
    {
     "data": {
      "text/plain": [
       "              theme       score\n",
       "0          betrayal  118.840843\n",
       "1            battle  153.248394\n",
       "2  self development  145.221716\n",
       "3         sacrifice  156.423085\n",
       "4              hope   84.386500\n",
       "5        friendship   71.730532\n",
       "6              love   44.767524"
      ],
      "text/html": [
       "<div>\n",
       "<style scoped>\n",
       "    .dataframe tbody tr th:only-of-type {\n",
       "        vertical-align: middle;\n",
       "    }\n",
       "\n",
       "    .dataframe tbody tr th {\n",
       "        vertical-align: top;\n",
       "    }\n",
       "\n",
       "    .dataframe thead th {\n",
       "        text-align: right;\n",
       "    }\n",
       "</style>\n",
       "<table border=\"1\" class=\"dataframe\">\n",
       "  <thead>\n",
       "    <tr style=\"text-align: right;\">\n",
       "      <th></th>\n",
       "      <th>theme</th>\n",
       "      <th>score</th>\n",
       "    </tr>\n",
       "  </thead>\n",
       "  <tbody>\n",
       "    <tr>\n",
       "      <th>0</th>\n",
       "      <td>betrayal</td>\n",
       "      <td>118.840843</td>\n",
       "    </tr>\n",
       "    <tr>\n",
       "      <th>1</th>\n",
       "      <td>battle</td>\n",
       "      <td>153.248394</td>\n",
       "    </tr>\n",
       "    <tr>\n",
       "      <th>2</th>\n",
       "      <td>self development</td>\n",
       "      <td>145.221716</td>\n",
       "    </tr>\n",
       "    <tr>\n",
       "      <th>3</th>\n",
       "      <td>sacrifice</td>\n",
       "      <td>156.423085</td>\n",
       "    </tr>\n",
       "    <tr>\n",
       "      <th>4</th>\n",
       "      <td>hope</td>\n",
       "      <td>84.386500</td>\n",
       "    </tr>\n",
       "    <tr>\n",
       "      <th>5</th>\n",
       "      <td>friendship</td>\n",
       "      <td>71.730532</td>\n",
       "    </tr>\n",
       "    <tr>\n",
       "      <th>6</th>\n",
       "      <td>love</td>\n",
       "      <td>44.767524</td>\n",
       "    </tr>\n",
       "  </tbody>\n",
       "</table>\n",
       "</div>"
      ]
     },
     "execution_count": 15,
     "metadata": {},
     "output_type": "execute_result"
    }
   ],
   "execution_count": 15
  },
  {
   "metadata": {
    "jupyter": {
     "is_executing": true
    },
    "ExecuteTime": {
     "start_time": "2024-11-01T07:43:17.330126Z"
    }
   },
   "cell_type": "code",
   "source": [
    "sns.barplot(data=theme_output, x=\"theme\", y=\"score\")\n",
    "plt.xticks(rotation=45)\n",
    "plt.show()"
   ],
   "id": "460e25bccc4f704a",
   "outputs": [],
   "execution_count": null
  },
  {
   "metadata": {},
   "cell_type": "code",
   "outputs": [],
   "execution_count": null,
   "source": "",
   "id": "e3587c7cfb14de50"
  }
 ],
 "metadata": {
  "kernelspec": {
   "display_name": "Python 3",
   "language": "python",
   "name": "python3"
  },
  "language_info": {
   "codemirror_mode": {
    "name": "ipython",
    "version": 2
   },
   "file_extension": ".py",
   "mimetype": "text/x-python",
   "name": "python",
   "nbconvert_exporter": "python",
   "pygments_lexer": "ipython2",
   "version": "2.7.6"
  }
 },
 "nbformat": 4,
 "nbformat_minor": 5
}
